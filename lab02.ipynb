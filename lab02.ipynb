{
 "cells": [
  {
   "cell_type": "code",
   "execution_count": 1,
   "id": "initial_id",
   "metadata": {
    "collapsed": true,
    "ExecuteTime": {
     "end_time": "2023-11-12T16:25:33.679022100Z",
     "start_time": "2023-11-12T16:25:33.344648700Z"
    }
   },
   "outputs": [],
   "source": [
    "import pandas as pd\n",
    "\n",
    "import seaborn as sns\n",
    "import matplotlib.pyplot as plt\n",
    "from sklearn.ensemble import RandomForestClassifier\n",
    "from sklearn.tree import plot_tree\n",
    "\n",
    "from sklearn.neighbors import KNeighborsClassifier\n",
    "from sklearn.svm import SVC\n",
    "from sklearn.tree import DecisionTreeClassifier\n",
    "\n",
    "\n",
    "from sklearn.model_selection import train_test_split\n",
    "\n",
    "from sklearn.metrics import classification_report\n",
    "from sklearn.metrics import confusion_matrix\n",
    "from sklearn.model_selection import GridSearchCV\n",
    "from joblib import dump, load"
   ]
  },
  {
   "cell_type": "markdown",
   "source": [
    "Лабораторная работа №2. Классификация\n",
    "\n",
    "Чтение датасета"
   ],
   "metadata": {
    "collapsed": false
   },
   "id": "dc024067f10c7739"
  },
  {
   "cell_type": "code",
   "execution_count": 2,
   "outputs": [],
   "source": [
    "df = pd.read_csv('all_perth_preprocessed.csv', encoding='ISO-8859-1')\n",
    "row_count = df.shape[0]\n",
    "column_count = df.shape[1]"
   ],
   "metadata": {
    "collapsed": false,
    "ExecuteTime": {
     "end_time": "2023-11-12T16:25:33.781204900Z",
     "start_time": "2023-11-12T16:25:33.681023300Z"
    }
   },
   "id": "eb7981e226393c7f"
  },
  {
   "cell_type": "markdown",
   "source": [
    "Вывод информации о датасете"
   ],
   "metadata": {
    "collapsed": false
   },
   "id": "81e6b0a4602c1276"
  },
  {
   "cell_type": "code",
   "execution_count": 3,
   "outputs": [
    {
     "name": "stdout",
     "output_type": "stream",
     "text": [
      "The DataFrame has 30501 rows.\n",
      "The DataFrame has 11 columns.\n"
     ]
    },
    {
     "data": {
      "text/plain": "         PRICE  BEDROOMS  BATHROOMS    GARAGE  LAND_AREA  FLOOR_AREA  \\\n0       565000  0.000000   0.000000  0.000000  -0.004876   -0.166686   \n1       365000 -1.333715   0.000000  0.000000  -0.019504   -0.458386   \n2       287000 -1.333715  -1.694922 -0.693615   0.002115   -1.194581   \n3       255000 -2.667430  -1.694922  0.000000  -0.001880   -1.569623   \n4       325000  0.000000  -1.694922  0.000000  -0.012748   -0.569509   \n...        ...       ...        ...       ...        ...         ...   \n30496   423000 -1.333715   0.000000  0.000000  -0.025554   -0.888990   \n30497   467000  0.000000   0.000000  0.000000  -0.016625   -0.555619   \n30498   955000 -1.333715   0.000000 -0.693615  -0.028374   -0.625071   \n30499  1040000  0.000000   1.694922  0.000000  -0.022970    1.014004   \n30500   295000 -1.333715  -1.694922  0.000000  -0.013277   -1.208471   \n\n       BUILD_YEAR  DATE_SOLD  CBD_DIST  NEAREST_STN_DIST  NEAREST_SCH_DIST  \n0        0.381601   0.285683  0.088487         -0.316988         -0.296650  \n1        0.858601   0.571366  0.849476          0.384914          2.467373  \n2       -0.763201  -0.571366  0.468981         -0.294346          0.186583  \n3       -2.003403   0.285683  0.053092          0.090568          0.140673  \n4        0.143100  -0.285683 -0.539771         -0.271704          0.107124  \n...           ...        ...       ...               ...               ...  \n30496    0.763201  -0.285683  0.672502          0.566050          1.339044  \n30497    0.906301  -0.571366 -0.017697         -0.158494         -0.127136  \n30498    0.095400   0.571366 -0.115033         -0.294346         -0.116541  \n30499    0.858601  -0.285683 -0.106184         -0.384914          0.057682  \n30500   -1.001701  -0.285683 -0.415889          0.271704         -0.573288  \n\n[30501 rows x 11 columns]",
      "text/html": "<div>\n<style scoped>\n    .dataframe tbody tr th:only-of-type {\n        vertical-align: middle;\n    }\n\n    .dataframe tbody tr th {\n        vertical-align: top;\n    }\n\n    .dataframe thead th {\n        text-align: right;\n    }\n</style>\n<table border=\"1\" class=\"dataframe\">\n  <thead>\n    <tr style=\"text-align: right;\">\n      <th></th>\n      <th>PRICE</th>\n      <th>BEDROOMS</th>\n      <th>BATHROOMS</th>\n      <th>GARAGE</th>\n      <th>LAND_AREA</th>\n      <th>FLOOR_AREA</th>\n      <th>BUILD_YEAR</th>\n      <th>DATE_SOLD</th>\n      <th>CBD_DIST</th>\n      <th>NEAREST_STN_DIST</th>\n      <th>NEAREST_SCH_DIST</th>\n    </tr>\n  </thead>\n  <tbody>\n    <tr>\n      <th>0</th>\n      <td>565000</td>\n      <td>0.000000</td>\n      <td>0.000000</td>\n      <td>0.000000</td>\n      <td>-0.004876</td>\n      <td>-0.166686</td>\n      <td>0.381601</td>\n      <td>0.285683</td>\n      <td>0.088487</td>\n      <td>-0.316988</td>\n      <td>-0.296650</td>\n    </tr>\n    <tr>\n      <th>1</th>\n      <td>365000</td>\n      <td>-1.333715</td>\n      <td>0.000000</td>\n      <td>0.000000</td>\n      <td>-0.019504</td>\n      <td>-0.458386</td>\n      <td>0.858601</td>\n      <td>0.571366</td>\n      <td>0.849476</td>\n      <td>0.384914</td>\n      <td>2.467373</td>\n    </tr>\n    <tr>\n      <th>2</th>\n      <td>287000</td>\n      <td>-1.333715</td>\n      <td>-1.694922</td>\n      <td>-0.693615</td>\n      <td>0.002115</td>\n      <td>-1.194581</td>\n      <td>-0.763201</td>\n      <td>-0.571366</td>\n      <td>0.468981</td>\n      <td>-0.294346</td>\n      <td>0.186583</td>\n    </tr>\n    <tr>\n      <th>3</th>\n      <td>255000</td>\n      <td>-2.667430</td>\n      <td>-1.694922</td>\n      <td>0.000000</td>\n      <td>-0.001880</td>\n      <td>-1.569623</td>\n      <td>-2.003403</td>\n      <td>0.285683</td>\n      <td>0.053092</td>\n      <td>0.090568</td>\n      <td>0.140673</td>\n    </tr>\n    <tr>\n      <th>4</th>\n      <td>325000</td>\n      <td>0.000000</td>\n      <td>-1.694922</td>\n      <td>0.000000</td>\n      <td>-0.012748</td>\n      <td>-0.569509</td>\n      <td>0.143100</td>\n      <td>-0.285683</td>\n      <td>-0.539771</td>\n      <td>-0.271704</td>\n      <td>0.107124</td>\n    </tr>\n    <tr>\n      <th>...</th>\n      <td>...</td>\n      <td>...</td>\n      <td>...</td>\n      <td>...</td>\n      <td>...</td>\n      <td>...</td>\n      <td>...</td>\n      <td>...</td>\n      <td>...</td>\n      <td>...</td>\n      <td>...</td>\n    </tr>\n    <tr>\n      <th>30496</th>\n      <td>423000</td>\n      <td>-1.333715</td>\n      <td>0.000000</td>\n      <td>0.000000</td>\n      <td>-0.025554</td>\n      <td>-0.888990</td>\n      <td>0.763201</td>\n      <td>-0.285683</td>\n      <td>0.672502</td>\n      <td>0.566050</td>\n      <td>1.339044</td>\n    </tr>\n    <tr>\n      <th>30497</th>\n      <td>467000</td>\n      <td>0.000000</td>\n      <td>0.000000</td>\n      <td>0.000000</td>\n      <td>-0.016625</td>\n      <td>-0.555619</td>\n      <td>0.906301</td>\n      <td>-0.571366</td>\n      <td>-0.017697</td>\n      <td>-0.158494</td>\n      <td>-0.127136</td>\n    </tr>\n    <tr>\n      <th>30498</th>\n      <td>955000</td>\n      <td>-1.333715</td>\n      <td>0.000000</td>\n      <td>-0.693615</td>\n      <td>-0.028374</td>\n      <td>-0.625071</td>\n      <td>0.095400</td>\n      <td>0.571366</td>\n      <td>-0.115033</td>\n      <td>-0.294346</td>\n      <td>-0.116541</td>\n    </tr>\n    <tr>\n      <th>30499</th>\n      <td>1040000</td>\n      <td>0.000000</td>\n      <td>1.694922</td>\n      <td>0.000000</td>\n      <td>-0.022970</td>\n      <td>1.014004</td>\n      <td>0.858601</td>\n      <td>-0.285683</td>\n      <td>-0.106184</td>\n      <td>-0.384914</td>\n      <td>0.057682</td>\n    </tr>\n    <tr>\n      <th>30500</th>\n      <td>295000</td>\n      <td>-1.333715</td>\n      <td>-1.694922</td>\n      <td>0.000000</td>\n      <td>-0.013277</td>\n      <td>-1.208471</td>\n      <td>-1.001701</td>\n      <td>-0.285683</td>\n      <td>-0.415889</td>\n      <td>0.271704</td>\n      <td>-0.573288</td>\n    </tr>\n  </tbody>\n</table>\n<p>30501 rows × 11 columns</p>\n</div>"
     },
     "execution_count": 3,
     "metadata": {},
     "output_type": "execute_result"
    }
   ],
   "source": [
    "print(f'The DataFrame has {row_count} rows.')\n",
    "print(f'The DataFrame has {column_count} columns.')\n",
    "df"
   ],
   "metadata": {
    "collapsed": false,
    "ExecuteTime": {
     "end_time": "2023-11-12T16:25:33.825054900Z",
     "start_time": "2023-11-12T16:25:33.788205300Z"
    }
   },
   "id": "5ce4fc7b353c127d"
  },
  {
   "cell_type": "markdown",
   "source": [
    "Разделим данные на классы по цене"
   ],
   "metadata": {
    "collapsed": false
   },
   "id": "8b208b61cc99bddd"
  },
  {
   "cell_type": "code",
   "execution_count": 4,
   "outputs": [
    {
     "data": {
      "text/plain": "         PRICE  BEDROOMS  BATHROOMS    GARAGE  LAND_AREA  FLOOR_AREA  \\\n0       565000  0.000000   0.000000  0.000000  -0.004876   -0.166686   \n1       365000 -1.333715   0.000000  0.000000  -0.019504   -0.458386   \n2       287000 -1.333715  -1.694922 -0.693615   0.002115   -1.194581   \n3       255000 -2.667430  -1.694922  0.000000  -0.001880   -1.569623   \n4       325000  0.000000  -1.694922  0.000000  -0.012748   -0.569509   \n...        ...       ...        ...       ...        ...         ...   \n30496   423000 -1.333715   0.000000  0.000000  -0.025554   -0.888990   \n30497   467000  0.000000   0.000000  0.000000  -0.016625   -0.555619   \n30498   955000 -1.333715   0.000000 -0.693615  -0.028374   -0.625071   \n30499  1040000  0.000000   1.694922  0.000000  -0.022970    1.014004   \n30500   295000 -1.333715  -1.694922  0.000000  -0.013277   -1.208471   \n\n       BUILD_YEAR  DATE_SOLD  CBD_DIST  NEAREST_STN_DIST  NEAREST_SCH_DIST  \\\n0        0.381601   0.285683  0.088487         -0.316988         -0.296650   \n1        0.858601   0.571366  0.849476          0.384914          2.467373   \n2       -0.763201  -0.571366  0.468981         -0.294346          0.186583   \n3       -2.003403   0.285683  0.053092          0.090568          0.140673   \n4        0.143100  -0.285683 -0.539771         -0.271704          0.107124   \n...           ...        ...       ...               ...               ...   \n30496    0.763201  -0.285683  0.672502          0.566050          1.339044   \n30497    0.906301  -0.571366 -0.017697         -0.158494         -0.127136   \n30498    0.095400   0.571366 -0.115033         -0.294346         -0.116541   \n30499    0.858601  -0.285683 -0.106184         -0.384914          0.057682   \n30500   -1.001701  -0.285683 -0.415889          0.271704         -0.573288   \n\n      CLASS  \n0         2  \n1         0  \n2         0  \n3         0  \n4         0  \n...     ...  \n30496     1  \n30497     1  \n30498     3  \n30499     3  \n30500     0  \n\n[30501 rows x 12 columns]",
      "text/html": "<div>\n<style scoped>\n    .dataframe tbody tr th:only-of-type {\n        vertical-align: middle;\n    }\n\n    .dataframe tbody tr th {\n        vertical-align: top;\n    }\n\n    .dataframe thead th {\n        text-align: right;\n    }\n</style>\n<table border=\"1\" class=\"dataframe\">\n  <thead>\n    <tr style=\"text-align: right;\">\n      <th></th>\n      <th>PRICE</th>\n      <th>BEDROOMS</th>\n      <th>BATHROOMS</th>\n      <th>GARAGE</th>\n      <th>LAND_AREA</th>\n      <th>FLOOR_AREA</th>\n      <th>BUILD_YEAR</th>\n      <th>DATE_SOLD</th>\n      <th>CBD_DIST</th>\n      <th>NEAREST_STN_DIST</th>\n      <th>NEAREST_SCH_DIST</th>\n      <th>CLASS</th>\n    </tr>\n  </thead>\n  <tbody>\n    <tr>\n      <th>0</th>\n      <td>565000</td>\n      <td>0.000000</td>\n      <td>0.000000</td>\n      <td>0.000000</td>\n      <td>-0.004876</td>\n      <td>-0.166686</td>\n      <td>0.381601</td>\n      <td>0.285683</td>\n      <td>0.088487</td>\n      <td>-0.316988</td>\n      <td>-0.296650</td>\n      <td>2</td>\n    </tr>\n    <tr>\n      <th>1</th>\n      <td>365000</td>\n      <td>-1.333715</td>\n      <td>0.000000</td>\n      <td>0.000000</td>\n      <td>-0.019504</td>\n      <td>-0.458386</td>\n      <td>0.858601</td>\n      <td>0.571366</td>\n      <td>0.849476</td>\n      <td>0.384914</td>\n      <td>2.467373</td>\n      <td>0</td>\n    </tr>\n    <tr>\n      <th>2</th>\n      <td>287000</td>\n      <td>-1.333715</td>\n      <td>-1.694922</td>\n      <td>-0.693615</td>\n      <td>0.002115</td>\n      <td>-1.194581</td>\n      <td>-0.763201</td>\n      <td>-0.571366</td>\n      <td>0.468981</td>\n      <td>-0.294346</td>\n      <td>0.186583</td>\n      <td>0</td>\n    </tr>\n    <tr>\n      <th>3</th>\n      <td>255000</td>\n      <td>-2.667430</td>\n      <td>-1.694922</td>\n      <td>0.000000</td>\n      <td>-0.001880</td>\n      <td>-1.569623</td>\n      <td>-2.003403</td>\n      <td>0.285683</td>\n      <td>0.053092</td>\n      <td>0.090568</td>\n      <td>0.140673</td>\n      <td>0</td>\n    </tr>\n    <tr>\n      <th>4</th>\n      <td>325000</td>\n      <td>0.000000</td>\n      <td>-1.694922</td>\n      <td>0.000000</td>\n      <td>-0.012748</td>\n      <td>-0.569509</td>\n      <td>0.143100</td>\n      <td>-0.285683</td>\n      <td>-0.539771</td>\n      <td>-0.271704</td>\n      <td>0.107124</td>\n      <td>0</td>\n    </tr>\n    <tr>\n      <th>...</th>\n      <td>...</td>\n      <td>...</td>\n      <td>...</td>\n      <td>...</td>\n      <td>...</td>\n      <td>...</td>\n      <td>...</td>\n      <td>...</td>\n      <td>...</td>\n      <td>...</td>\n      <td>...</td>\n      <td>...</td>\n    </tr>\n    <tr>\n      <th>30496</th>\n      <td>423000</td>\n      <td>-1.333715</td>\n      <td>0.000000</td>\n      <td>0.000000</td>\n      <td>-0.025554</td>\n      <td>-0.888990</td>\n      <td>0.763201</td>\n      <td>-0.285683</td>\n      <td>0.672502</td>\n      <td>0.566050</td>\n      <td>1.339044</td>\n      <td>1</td>\n    </tr>\n    <tr>\n      <th>30497</th>\n      <td>467000</td>\n      <td>0.000000</td>\n      <td>0.000000</td>\n      <td>0.000000</td>\n      <td>-0.016625</td>\n      <td>-0.555619</td>\n      <td>0.906301</td>\n      <td>-0.571366</td>\n      <td>-0.017697</td>\n      <td>-0.158494</td>\n      <td>-0.127136</td>\n      <td>1</td>\n    </tr>\n    <tr>\n      <th>30498</th>\n      <td>955000</td>\n      <td>-1.333715</td>\n      <td>0.000000</td>\n      <td>-0.693615</td>\n      <td>-0.028374</td>\n      <td>-0.625071</td>\n      <td>0.095400</td>\n      <td>0.571366</td>\n      <td>-0.115033</td>\n      <td>-0.294346</td>\n      <td>-0.116541</td>\n      <td>3</td>\n    </tr>\n    <tr>\n      <th>30499</th>\n      <td>1040000</td>\n      <td>0.000000</td>\n      <td>1.694922</td>\n      <td>0.000000</td>\n      <td>-0.022970</td>\n      <td>1.014004</td>\n      <td>0.858601</td>\n      <td>-0.285683</td>\n      <td>-0.106184</td>\n      <td>-0.384914</td>\n      <td>0.057682</td>\n      <td>3</td>\n    </tr>\n    <tr>\n      <th>30500</th>\n      <td>295000</td>\n      <td>-1.333715</td>\n      <td>-1.694922</td>\n      <td>0.000000</td>\n      <td>-0.013277</td>\n      <td>-1.208471</td>\n      <td>-1.001701</td>\n      <td>-0.285683</td>\n      <td>-0.415889</td>\n      <td>0.271704</td>\n      <td>-0.573288</td>\n      <td>0</td>\n    </tr>\n  </tbody>\n</table>\n<p>30501 rows × 12 columns</p>\n</div>"
     },
     "execution_count": 4,
     "metadata": {},
     "output_type": "execute_result"
    }
   ],
   "source": [
    "df['CLASS'] = pd.qcut(df['PRICE'], 4, labels=[0, 1, 2, 3])\n",
    "df"
   ],
   "metadata": {
    "collapsed": false,
    "ExecuteTime": {
     "end_time": "2023-11-12T16:25:33.875876600Z",
     "start_time": "2023-11-12T16:25:33.815052700Z"
    }
   },
   "id": "d4d417419329a1eb"
  },
  {
   "cell_type": "markdown",
   "source": [
    "Выведем распределение цен по классам"
   ],
   "metadata": {
    "collapsed": false
   },
   "id": "dbe2ae9ddcdd14a4"
  },
  {
   "cell_type": "code",
   "execution_count": 5,
   "outputs": [
    {
     "name": "stderr",
     "output_type": "stream",
     "text": [
      "C:\\Users\\mmlit\\AppData\\Local\\Temp\\ipykernel_2072\\1852239159.py:1: FutureWarning: The default of observed=False is deprecated and will be changed to True in a future version of pandas. Pass observed=False to retain current behavior or observed=True to adopt the future default and silence this warning.\n",
      "  df.groupby('CLASS')['PRICE'].describe()\n"
     ]
    },
    {
     "data": {
      "text/plain": "        count          mean            std       min       25%        50%  \\\nCLASS                                                                       \n0      7862.0  3.197738e+05   73608.809315   52000.0  282500.0   335000.0   \n1      7397.0  4.728161e+05   36367.507403  410500.0  440000.0   471614.0   \n2      7636.0  6.367050e+05   65704.133090  539125.0  580000.0   630000.0   \n3      7606.0  1.131345e+06  354828.286068  766000.0  860000.0  1000000.0   \n\n             75%        max  \nCLASS                        \n0       378000.0   410000.0  \n1       505000.0   539000.0  \n2       690000.0   765000.0  \n3      1300000.0  2440000.0  ",
      "text/html": "<div>\n<style scoped>\n    .dataframe tbody tr th:only-of-type {\n        vertical-align: middle;\n    }\n\n    .dataframe tbody tr th {\n        vertical-align: top;\n    }\n\n    .dataframe thead th {\n        text-align: right;\n    }\n</style>\n<table border=\"1\" class=\"dataframe\">\n  <thead>\n    <tr style=\"text-align: right;\">\n      <th></th>\n      <th>count</th>\n      <th>mean</th>\n      <th>std</th>\n      <th>min</th>\n      <th>25%</th>\n      <th>50%</th>\n      <th>75%</th>\n      <th>max</th>\n    </tr>\n    <tr>\n      <th>CLASS</th>\n      <th></th>\n      <th></th>\n      <th></th>\n      <th></th>\n      <th></th>\n      <th></th>\n      <th></th>\n      <th></th>\n    </tr>\n  </thead>\n  <tbody>\n    <tr>\n      <th>0</th>\n      <td>7862.0</td>\n      <td>3.197738e+05</td>\n      <td>73608.809315</td>\n      <td>52000.0</td>\n      <td>282500.0</td>\n      <td>335000.0</td>\n      <td>378000.0</td>\n      <td>410000.0</td>\n    </tr>\n    <tr>\n      <th>1</th>\n      <td>7397.0</td>\n      <td>4.728161e+05</td>\n      <td>36367.507403</td>\n      <td>410500.0</td>\n      <td>440000.0</td>\n      <td>471614.0</td>\n      <td>505000.0</td>\n      <td>539000.0</td>\n    </tr>\n    <tr>\n      <th>2</th>\n      <td>7636.0</td>\n      <td>6.367050e+05</td>\n      <td>65704.133090</td>\n      <td>539125.0</td>\n      <td>580000.0</td>\n      <td>630000.0</td>\n      <td>690000.0</td>\n      <td>765000.0</td>\n    </tr>\n    <tr>\n      <th>3</th>\n      <td>7606.0</td>\n      <td>1.131345e+06</td>\n      <td>354828.286068</td>\n      <td>766000.0</td>\n      <td>860000.0</td>\n      <td>1000000.0</td>\n      <td>1300000.0</td>\n      <td>2440000.0</td>\n    </tr>\n  </tbody>\n</table>\n</div>"
     },
     "execution_count": 5,
     "metadata": {},
     "output_type": "execute_result"
    }
   ],
   "source": [
    "df.groupby('CLASS')['PRICE'].describe()"
   ],
   "metadata": {
    "collapsed": false,
    "ExecuteTime": {
     "end_time": "2023-11-12T16:25:33.982968Z",
     "start_time": "2023-11-12T16:25:33.862758200Z"
    }
   },
   "id": "70744f9cbf081d24"
  },
  {
   "cell_type": "markdown",
   "source": [
    "Уберем столбец стоимости из датасета"
   ],
   "metadata": {
    "collapsed": false
   },
   "id": "fcc14f0838d1d5e4"
  },
  {
   "cell_type": "code",
   "execution_count": 6,
   "outputs": [],
   "source": [
    "df = df.drop('PRICE', axis=1)"
   ],
   "metadata": {
    "collapsed": false,
    "ExecuteTime": {
     "end_time": "2023-11-12T16:25:34.091152200Z",
     "start_time": "2023-11-12T16:25:33.890003100Z"
    }
   },
   "id": "4eafc5213363dfb2"
  },
  {
   "cell_type": "markdown",
   "source": [
    "Разбиваем датасет на тестовую и тренировочную выборки"
   ],
   "metadata": {
    "collapsed": false
   },
   "id": "9e34d03dc9024442"
  },
  {
   "cell_type": "code",
   "execution_count": 7,
   "outputs": [],
   "source": [
    "x = df.drop('CLASS', axis=1)\n",
    "y = df['CLASS']\n",
    "x_train, x_test, y_train, y_test = train_test_split(x, y, random_state=0)"
   ],
   "metadata": {
    "collapsed": false,
    "ExecuteTime": {
     "end_time": "2023-11-12T16:25:34.168603900Z",
     "start_time": "2023-11-12T16:25:33.902519500Z"
    }
   },
   "id": "63008a0e52a29658"
  },
  {
   "cell_type": "markdown",
   "source": [
    "1. Обучение моделей и подбор памаметров"
   ],
   "metadata": {
    "collapsed": false
   },
   "id": "9ce3be6479c38672"
  },
  {
   "cell_type": "markdown",
   "source": [
    "    a. K-ближайших соседей (KNN)"
   ],
   "metadata": {
    "collapsed": false
   },
   "id": "bb3a7739fb18a69d"
  },
  {
   "cell_type": "code",
   "execution_count": 8,
   "outputs": [
    {
     "ename": "KeyboardInterrupt",
     "evalue": "",
     "output_type": "error",
     "traceback": [
      "\u001B[1;31m---------------------------------------------------------------------------\u001B[0m",
      "\u001B[1;31mKeyboardInterrupt\u001B[0m                         Traceback (most recent call last)",
      "Cell \u001B[1;32mIn[8], line 5\u001B[0m\n\u001B[0;32m      1\u001B[0m k_range \u001B[38;5;241m=\u001B[39m \u001B[38;5;28mlist\u001B[39m(\u001B[38;5;28mrange\u001B[39m(\u001B[38;5;241m1\u001B[39m, \u001B[38;5;241m31\u001B[39m))\n\u001B[0;32m      2\u001B[0m knn \u001B[38;5;241m=\u001B[39m GridSearchCV(estimator\u001B[38;5;241m=\u001B[39m KNeighborsClassifier(),\n\u001B[0;32m      3\u001B[0m              param_grid\u001B[38;5;241m=\u001B[39m{\u001B[38;5;124m'\u001B[39m\u001B[38;5;124mn_neighbors\u001B[39m\u001B[38;5;124m'\u001B[39m: k_range, \u001B[38;5;124m'\u001B[39m\u001B[38;5;124malgorithm\u001B[39m\u001B[38;5;124m'\u001B[39m: [\u001B[38;5;124m'\u001B[39m\u001B[38;5;124mball_tree\u001B[39m\u001B[38;5;124m'\u001B[39m, \u001B[38;5;124m'\u001B[39m\u001B[38;5;124mkd_tree\u001B[39m\u001B[38;5;124m'\u001B[39m]}, n_jobs\u001B[38;5;241m=\u001B[39m\u001B[38;5;241m-\u001B[39m\u001B[38;5;241m1\u001B[39m)\n\u001B[1;32m----> 5\u001B[0m \u001B[43mknn\u001B[49m\u001B[38;5;241;43m.\u001B[39;49m\u001B[43mfit\u001B[49m\u001B[43m(\u001B[49m\u001B[43mx_train\u001B[49m\u001B[43m,\u001B[49m\u001B[43m \u001B[49m\u001B[43my_train\u001B[49m\u001B[43m)\u001B[49m\n\u001B[0;32m      6\u001B[0m knn\u001B[38;5;241m.\u001B[39mbest_params_\n",
      "File \u001B[1;32m~\\PycharmProjects\\ml\\venv\\Lib\\site-packages\\sklearn\\base.py:1151\u001B[0m, in \u001B[0;36m_fit_context.<locals>.decorator.<locals>.wrapper\u001B[1;34m(estimator, *args, **kwargs)\u001B[0m\n\u001B[0;32m   1144\u001B[0m     estimator\u001B[38;5;241m.\u001B[39m_validate_params()\n\u001B[0;32m   1146\u001B[0m \u001B[38;5;28;01mwith\u001B[39;00m config_context(\n\u001B[0;32m   1147\u001B[0m     skip_parameter_validation\u001B[38;5;241m=\u001B[39m(\n\u001B[0;32m   1148\u001B[0m         prefer_skip_nested_validation \u001B[38;5;129;01mor\u001B[39;00m global_skip_validation\n\u001B[0;32m   1149\u001B[0m     )\n\u001B[0;32m   1150\u001B[0m ):\n\u001B[1;32m-> 1151\u001B[0m     \u001B[38;5;28;01mreturn\u001B[39;00m \u001B[43mfit_method\u001B[49m\u001B[43m(\u001B[49m\u001B[43mestimator\u001B[49m\u001B[43m,\u001B[49m\u001B[43m \u001B[49m\u001B[38;5;241;43m*\u001B[39;49m\u001B[43margs\u001B[49m\u001B[43m,\u001B[49m\u001B[43m \u001B[49m\u001B[38;5;241;43m*\u001B[39;49m\u001B[38;5;241;43m*\u001B[39;49m\u001B[43mkwargs\u001B[49m\u001B[43m)\u001B[49m\n",
      "File \u001B[1;32m~\\PycharmProjects\\ml\\venv\\Lib\\site-packages\\sklearn\\model_selection\\_search.py:898\u001B[0m, in \u001B[0;36mBaseSearchCV.fit\u001B[1;34m(self, X, y, groups, **fit_params)\u001B[0m\n\u001B[0;32m    892\u001B[0m     results \u001B[38;5;241m=\u001B[39m \u001B[38;5;28mself\u001B[39m\u001B[38;5;241m.\u001B[39m_format_results(\n\u001B[0;32m    893\u001B[0m         all_candidate_params, n_splits, all_out, all_more_results\n\u001B[0;32m    894\u001B[0m     )\n\u001B[0;32m    896\u001B[0m     \u001B[38;5;28;01mreturn\u001B[39;00m results\n\u001B[1;32m--> 898\u001B[0m \u001B[38;5;28;43mself\u001B[39;49m\u001B[38;5;241;43m.\u001B[39;49m\u001B[43m_run_search\u001B[49m\u001B[43m(\u001B[49m\u001B[43mevaluate_candidates\u001B[49m\u001B[43m)\u001B[49m\n\u001B[0;32m    900\u001B[0m \u001B[38;5;66;03m# multimetric is determined here because in the case of a callable\u001B[39;00m\n\u001B[0;32m    901\u001B[0m \u001B[38;5;66;03m# self.scoring the return type is only known after calling\u001B[39;00m\n\u001B[0;32m    902\u001B[0m first_test_score \u001B[38;5;241m=\u001B[39m all_out[\u001B[38;5;241m0\u001B[39m][\u001B[38;5;124m\"\u001B[39m\u001B[38;5;124mtest_scores\u001B[39m\u001B[38;5;124m\"\u001B[39m]\n",
      "File \u001B[1;32m~\\PycharmProjects\\ml\\venv\\Lib\\site-packages\\sklearn\\model_selection\\_search.py:1419\u001B[0m, in \u001B[0;36mGridSearchCV._run_search\u001B[1;34m(self, evaluate_candidates)\u001B[0m\n\u001B[0;32m   1417\u001B[0m \u001B[38;5;28;01mdef\u001B[39;00m \u001B[38;5;21m_run_search\u001B[39m(\u001B[38;5;28mself\u001B[39m, evaluate_candidates):\n\u001B[0;32m   1418\u001B[0m \u001B[38;5;250m    \u001B[39m\u001B[38;5;124;03m\"\"\"Search all candidates in param_grid\"\"\"\u001B[39;00m\n\u001B[1;32m-> 1419\u001B[0m     \u001B[43mevaluate_candidates\u001B[49m\u001B[43m(\u001B[49m\u001B[43mParameterGrid\u001B[49m\u001B[43m(\u001B[49m\u001B[38;5;28;43mself\u001B[39;49m\u001B[38;5;241;43m.\u001B[39;49m\u001B[43mparam_grid\u001B[49m\u001B[43m)\u001B[49m\u001B[43m)\u001B[49m\n",
      "File \u001B[1;32m~\\PycharmProjects\\ml\\venv\\Lib\\site-packages\\sklearn\\model_selection\\_search.py:845\u001B[0m, in \u001B[0;36mBaseSearchCV.fit.<locals>.evaluate_candidates\u001B[1;34m(candidate_params, cv, more_results)\u001B[0m\n\u001B[0;32m    837\u001B[0m \u001B[38;5;28;01mif\u001B[39;00m \u001B[38;5;28mself\u001B[39m\u001B[38;5;241m.\u001B[39mverbose \u001B[38;5;241m>\u001B[39m \u001B[38;5;241m0\u001B[39m:\n\u001B[0;32m    838\u001B[0m     \u001B[38;5;28mprint\u001B[39m(\n\u001B[0;32m    839\u001B[0m         \u001B[38;5;124m\"\u001B[39m\u001B[38;5;124mFitting \u001B[39m\u001B[38;5;132;01m{0}\u001B[39;00m\u001B[38;5;124m folds for each of \u001B[39m\u001B[38;5;132;01m{1}\u001B[39;00m\u001B[38;5;124m candidates,\u001B[39m\u001B[38;5;124m\"\u001B[39m\n\u001B[0;32m    840\u001B[0m         \u001B[38;5;124m\"\u001B[39m\u001B[38;5;124m totalling \u001B[39m\u001B[38;5;132;01m{2}\u001B[39;00m\u001B[38;5;124m fits\u001B[39m\u001B[38;5;124m\"\u001B[39m\u001B[38;5;241m.\u001B[39mformat(\n\u001B[0;32m    841\u001B[0m             n_splits, n_candidates, n_candidates \u001B[38;5;241m*\u001B[39m n_splits\n\u001B[0;32m    842\u001B[0m         )\n\u001B[0;32m    843\u001B[0m     )\n\u001B[1;32m--> 845\u001B[0m out \u001B[38;5;241m=\u001B[39m \u001B[43mparallel\u001B[49m\u001B[43m(\u001B[49m\n\u001B[0;32m    846\u001B[0m \u001B[43m    \u001B[49m\u001B[43mdelayed\u001B[49m\u001B[43m(\u001B[49m\u001B[43m_fit_and_score\u001B[49m\u001B[43m)\u001B[49m\u001B[43m(\u001B[49m\n\u001B[0;32m    847\u001B[0m \u001B[43m        \u001B[49m\u001B[43mclone\u001B[49m\u001B[43m(\u001B[49m\u001B[43mbase_estimator\u001B[49m\u001B[43m)\u001B[49m\u001B[43m,\u001B[49m\n\u001B[0;32m    848\u001B[0m \u001B[43m        \u001B[49m\u001B[43mX\u001B[49m\u001B[43m,\u001B[49m\n\u001B[0;32m    849\u001B[0m \u001B[43m        \u001B[49m\u001B[43my\u001B[49m\u001B[43m,\u001B[49m\n\u001B[0;32m    850\u001B[0m \u001B[43m        \u001B[49m\u001B[43mtrain\u001B[49m\u001B[38;5;241;43m=\u001B[39;49m\u001B[43mtrain\u001B[49m\u001B[43m,\u001B[49m\n\u001B[0;32m    851\u001B[0m \u001B[43m        \u001B[49m\u001B[43mtest\u001B[49m\u001B[38;5;241;43m=\u001B[39;49m\u001B[43mtest\u001B[49m\u001B[43m,\u001B[49m\n\u001B[0;32m    852\u001B[0m \u001B[43m        \u001B[49m\u001B[43mparameters\u001B[49m\u001B[38;5;241;43m=\u001B[39;49m\u001B[43mparameters\u001B[49m\u001B[43m,\u001B[49m\n\u001B[0;32m    853\u001B[0m \u001B[43m        \u001B[49m\u001B[43msplit_progress\u001B[49m\u001B[38;5;241;43m=\u001B[39;49m\u001B[43m(\u001B[49m\u001B[43msplit_idx\u001B[49m\u001B[43m,\u001B[49m\u001B[43m \u001B[49m\u001B[43mn_splits\u001B[49m\u001B[43m)\u001B[49m\u001B[43m,\u001B[49m\n\u001B[0;32m    854\u001B[0m \u001B[43m        \u001B[49m\u001B[43mcandidate_progress\u001B[49m\u001B[38;5;241;43m=\u001B[39;49m\u001B[43m(\u001B[49m\u001B[43mcand_idx\u001B[49m\u001B[43m,\u001B[49m\u001B[43m \u001B[49m\u001B[43mn_candidates\u001B[49m\u001B[43m)\u001B[49m\u001B[43m,\u001B[49m\n\u001B[0;32m    855\u001B[0m \u001B[43m        \u001B[49m\u001B[38;5;241;43m*\u001B[39;49m\u001B[38;5;241;43m*\u001B[39;49m\u001B[43mfit_and_score_kwargs\u001B[49m\u001B[43m,\u001B[49m\n\u001B[0;32m    856\u001B[0m \u001B[43m    \u001B[49m\u001B[43m)\u001B[49m\n\u001B[0;32m    857\u001B[0m \u001B[43m    \u001B[49m\u001B[38;5;28;43;01mfor\u001B[39;49;00m\u001B[43m \u001B[49m\u001B[43m(\u001B[49m\u001B[43mcand_idx\u001B[49m\u001B[43m,\u001B[49m\u001B[43m \u001B[49m\u001B[43mparameters\u001B[49m\u001B[43m)\u001B[49m\u001B[43m,\u001B[49m\u001B[43m \u001B[49m\u001B[43m(\u001B[49m\u001B[43msplit_idx\u001B[49m\u001B[43m,\u001B[49m\u001B[43m \u001B[49m\u001B[43m(\u001B[49m\u001B[43mtrain\u001B[49m\u001B[43m,\u001B[49m\u001B[43m \u001B[49m\u001B[43mtest\u001B[49m\u001B[43m)\u001B[49m\u001B[43m)\u001B[49m\u001B[43m \u001B[49m\u001B[38;5;129;43;01min\u001B[39;49;00m\u001B[43m \u001B[49m\u001B[43mproduct\u001B[49m\u001B[43m(\u001B[49m\n\u001B[0;32m    858\u001B[0m \u001B[43m        \u001B[49m\u001B[38;5;28;43menumerate\u001B[39;49m\u001B[43m(\u001B[49m\u001B[43mcandidate_params\u001B[49m\u001B[43m)\u001B[49m\u001B[43m,\u001B[49m\u001B[43m \u001B[49m\u001B[38;5;28;43menumerate\u001B[39;49m\u001B[43m(\u001B[49m\u001B[43mcv\u001B[49m\u001B[38;5;241;43m.\u001B[39;49m\u001B[43msplit\u001B[49m\u001B[43m(\u001B[49m\u001B[43mX\u001B[49m\u001B[43m,\u001B[49m\u001B[43m \u001B[49m\u001B[43my\u001B[49m\u001B[43m,\u001B[49m\u001B[43m \u001B[49m\u001B[43mgroups\u001B[49m\u001B[43m)\u001B[49m\u001B[43m)\u001B[49m\n\u001B[0;32m    859\u001B[0m \u001B[43m    \u001B[49m\u001B[43m)\u001B[49m\n\u001B[0;32m    860\u001B[0m \u001B[43m\u001B[49m\u001B[43m)\u001B[49m\n\u001B[0;32m    862\u001B[0m \u001B[38;5;28;01mif\u001B[39;00m \u001B[38;5;28mlen\u001B[39m(out) \u001B[38;5;241m<\u001B[39m \u001B[38;5;241m1\u001B[39m:\n\u001B[0;32m    863\u001B[0m     \u001B[38;5;28;01mraise\u001B[39;00m \u001B[38;5;167;01mValueError\u001B[39;00m(\n\u001B[0;32m    864\u001B[0m         \u001B[38;5;124m\"\u001B[39m\u001B[38;5;124mNo fits were performed. \u001B[39m\u001B[38;5;124m\"\u001B[39m\n\u001B[0;32m    865\u001B[0m         \u001B[38;5;124m\"\u001B[39m\u001B[38;5;124mWas the CV iterator empty? \u001B[39m\u001B[38;5;124m\"\u001B[39m\n\u001B[0;32m    866\u001B[0m         \u001B[38;5;124m\"\u001B[39m\u001B[38;5;124mWere there no candidates?\u001B[39m\u001B[38;5;124m\"\u001B[39m\n\u001B[0;32m    867\u001B[0m     )\n",
      "File \u001B[1;32m~\\PycharmProjects\\ml\\venv\\Lib\\site-packages\\sklearn\\utils\\parallel.py:65\u001B[0m, in \u001B[0;36mParallel.__call__\u001B[1;34m(self, iterable)\u001B[0m\n\u001B[0;32m     60\u001B[0m config \u001B[38;5;241m=\u001B[39m get_config()\n\u001B[0;32m     61\u001B[0m iterable_with_config \u001B[38;5;241m=\u001B[39m (\n\u001B[0;32m     62\u001B[0m     (_with_config(delayed_func, config), args, kwargs)\n\u001B[0;32m     63\u001B[0m     \u001B[38;5;28;01mfor\u001B[39;00m delayed_func, args, kwargs \u001B[38;5;129;01min\u001B[39;00m iterable\n\u001B[0;32m     64\u001B[0m )\n\u001B[1;32m---> 65\u001B[0m \u001B[38;5;28;01mreturn\u001B[39;00m \u001B[38;5;28;43msuper\u001B[39;49m\u001B[43m(\u001B[49m\u001B[43m)\u001B[49m\u001B[38;5;241;43m.\u001B[39;49m\u001B[38;5;21;43m__call__\u001B[39;49m\u001B[43m(\u001B[49m\u001B[43miterable_with_config\u001B[49m\u001B[43m)\u001B[49m\n",
      "File \u001B[1;32m~\\PycharmProjects\\ml\\venv\\Lib\\site-packages\\joblib\\parallel.py:1952\u001B[0m, in \u001B[0;36mParallel.__call__\u001B[1;34m(self, iterable)\u001B[0m\n\u001B[0;32m   1946\u001B[0m \u001B[38;5;66;03m# The first item from the output is blank, but it makes the interpreter\u001B[39;00m\n\u001B[0;32m   1947\u001B[0m \u001B[38;5;66;03m# progress until it enters the Try/Except block of the generator and\u001B[39;00m\n\u001B[0;32m   1948\u001B[0m \u001B[38;5;66;03m# reach the first `yield` statement. This starts the aynchronous\u001B[39;00m\n\u001B[0;32m   1949\u001B[0m \u001B[38;5;66;03m# dispatch of the tasks to the workers.\u001B[39;00m\n\u001B[0;32m   1950\u001B[0m \u001B[38;5;28mnext\u001B[39m(output)\n\u001B[1;32m-> 1952\u001B[0m \u001B[38;5;28;01mreturn\u001B[39;00m output \u001B[38;5;28;01mif\u001B[39;00m \u001B[38;5;28mself\u001B[39m\u001B[38;5;241m.\u001B[39mreturn_generator \u001B[38;5;28;01melse\u001B[39;00m \u001B[38;5;28;43mlist\u001B[39;49m\u001B[43m(\u001B[49m\u001B[43moutput\u001B[49m\u001B[43m)\u001B[49m\n",
      "File \u001B[1;32m~\\PycharmProjects\\ml\\venv\\Lib\\site-packages\\joblib\\parallel.py:1595\u001B[0m, in \u001B[0;36mParallel._get_outputs\u001B[1;34m(self, iterator, pre_dispatch)\u001B[0m\n\u001B[0;32m   1592\u001B[0m     \u001B[38;5;28;01myield\u001B[39;00m\n\u001B[0;32m   1594\u001B[0m     \u001B[38;5;28;01mwith\u001B[39;00m \u001B[38;5;28mself\u001B[39m\u001B[38;5;241m.\u001B[39m_backend\u001B[38;5;241m.\u001B[39mretrieval_context():\n\u001B[1;32m-> 1595\u001B[0m         \u001B[38;5;28;01myield from\u001B[39;00m \u001B[38;5;28mself\u001B[39m\u001B[38;5;241m.\u001B[39m_retrieve()\n\u001B[0;32m   1597\u001B[0m \u001B[38;5;28;01mexcept\u001B[39;00m \u001B[38;5;167;01mGeneratorExit\u001B[39;00m:\n\u001B[0;32m   1598\u001B[0m     \u001B[38;5;66;03m# The generator has been garbage collected before being fully\u001B[39;00m\n\u001B[0;32m   1599\u001B[0m     \u001B[38;5;66;03m# consumed. This aborts the remaining tasks if possible and warn\u001B[39;00m\n\u001B[0;32m   1600\u001B[0m     \u001B[38;5;66;03m# the user if necessary.\u001B[39;00m\n\u001B[0;32m   1601\u001B[0m     \u001B[38;5;28mself\u001B[39m\u001B[38;5;241m.\u001B[39m_exception \u001B[38;5;241m=\u001B[39m \u001B[38;5;28;01mTrue\u001B[39;00m\n",
      "File \u001B[1;32m~\\PycharmProjects\\ml\\venv\\Lib\\site-packages\\joblib\\parallel.py:1707\u001B[0m, in \u001B[0;36mParallel._retrieve\u001B[1;34m(self)\u001B[0m\n\u001B[0;32m   1702\u001B[0m \u001B[38;5;66;03m# If the next job is not ready for retrieval yet, we just wait for\u001B[39;00m\n\u001B[0;32m   1703\u001B[0m \u001B[38;5;66;03m# async callbacks to progress.\u001B[39;00m\n\u001B[0;32m   1704\u001B[0m \u001B[38;5;28;01mif\u001B[39;00m ((\u001B[38;5;28mlen\u001B[39m(\u001B[38;5;28mself\u001B[39m\u001B[38;5;241m.\u001B[39m_jobs) \u001B[38;5;241m==\u001B[39m \u001B[38;5;241m0\u001B[39m) \u001B[38;5;129;01mor\u001B[39;00m\n\u001B[0;32m   1705\u001B[0m     (\u001B[38;5;28mself\u001B[39m\u001B[38;5;241m.\u001B[39m_jobs[\u001B[38;5;241m0\u001B[39m]\u001B[38;5;241m.\u001B[39mget_status(\n\u001B[0;32m   1706\u001B[0m         timeout\u001B[38;5;241m=\u001B[39m\u001B[38;5;28mself\u001B[39m\u001B[38;5;241m.\u001B[39mtimeout) \u001B[38;5;241m==\u001B[39m TASK_PENDING)):\n\u001B[1;32m-> 1707\u001B[0m     time\u001B[38;5;241m.\u001B[39msleep(\u001B[38;5;241m0.01\u001B[39m)\n\u001B[0;32m   1708\u001B[0m     \u001B[38;5;28;01mcontinue\u001B[39;00m\n\u001B[0;32m   1710\u001B[0m \u001B[38;5;66;03m# We need to be careful: the job list can be filling up as\u001B[39;00m\n\u001B[0;32m   1711\u001B[0m \u001B[38;5;66;03m# we empty it and Python list are not thread-safe by\u001B[39;00m\n\u001B[0;32m   1712\u001B[0m \u001B[38;5;66;03m# default hence the use of the lock\u001B[39;00m\n",
      "\u001B[1;31mKeyboardInterrupt\u001B[0m: "
     ]
    }
   ],
   "source": [
    "k_range = list(range(1, 31))\n",
    "knn = GridSearchCV(estimator= KNeighborsClassifier(),\n",
    "             param_grid={'n_neighbors': k_range, 'algorithm': ['ball_tree', 'kd_tree']}, n_jobs=-1)\n",
    "\n",
    "knn.fit(x_train, y_train)\n",
    "knn.best_params_"
   ],
   "metadata": {
    "collapsed": false,
    "ExecuteTime": {
     "end_time": "2023-11-12T16:25:53.546908300Z",
     "start_time": "2023-11-12T16:25:33.919201Z"
    }
   },
   "id": "7d4372a62036e73"
  },
  {
   "cell_type": "markdown",
   "source": [
    "Сохраняем натренированную модель в файл"
   ],
   "metadata": {
    "collapsed": false
   },
   "id": "99299539cbfd623b"
  },
  {
   "cell_type": "code",
   "execution_count": null,
   "outputs": [],
   "source": [
    "dump(knn, \"knn_model.joblib\") "
   ],
   "metadata": {
    "collapsed": false,
    "ExecuteTime": {
     "start_time": "2023-11-12T16:25:53.550903600Z"
    }
   },
   "id": "26c03f155716bf36"
  },
  {
   "cell_type": "markdown",
   "source": [
    "    b. Машина опорных векторов (SVM)"
   ],
   "metadata": {
    "collapsed": false
   },
   "id": "b4f84d101d8c7609"
  },
  {
   "cell_type": "code",
   "execution_count": null,
   "outputs": [],
   "source": [
    "param_grid = {\n",
    "    'C': [0.1, 1, 10, 100, 1000],\n",
    "    'kernel': ['rbf'],\n",
    "    'gamma': [1, 0.1, 0.01, 0.001, 0.0001],\n",
    "}\n",
    "svm = GridSearchCV(SVC(), param_grid, cv=5, n_jobs=-1, verbose=3)\n",
    "svm.fit(x_train, y_train)\n",
    "svm.best_params_"
   ],
   "metadata": {
    "collapsed": false,
    "ExecuteTime": {
     "start_time": "2023-11-12T16:25:53.555905500Z"
    }
   },
   "id": "d5418ee19113e78"
  },
  {
   "cell_type": "code",
   "execution_count": null,
   "outputs": [],
   "source": [
    "dump(svm, \"svm_model.joblib\")"
   ],
   "metadata": {
    "collapsed": false,
    "ExecuteTime": {
     "end_time": "2023-11-12T16:25:53.573575Z",
     "start_time": "2023-11-12T16:25:53.563041400Z"
    }
   },
   "id": "c218aca9b26b2200"
  },
  {
   "cell_type": "markdown",
   "source": [
    "    c. Случайный лес"
   ],
   "metadata": {
    "collapsed": false
   },
   "id": "309d228d52649219"
  },
  {
   "cell_type": "code",
   "execution_count": null,
   "outputs": [],
   "source": [
    "param_grid = {\n",
    "    'n_estimators' : [10, 50, 100, 150],\n",
    "    'criterion': ['gini'],\n",
    "    'max_depth': [None, 2, 10],\n",
    "    'min_samples_split': [2, 4, 6],\n",
    "    'min_samples_leaf': [1, 3, 5],\n",
    "}\n",
    "random_forest = GridSearchCV(estimator=RandomForestClassifier(),  param_grid=param_grid,\n",
    "                     n_jobs=-1, verbose=3, cv=5)\n",
    "random_forest.fit(x_train, y_train)\n",
    "random_forest.best_params_"
   ],
   "metadata": {
    "collapsed": false,
    "ExecuteTime": {
     "start_time": "2023-11-12T16:25:53.569041200Z"
    }
   },
   "id": "b5f0e388981b58bf"
  },
  {
   "cell_type": "code",
   "execution_count": null,
   "outputs": [],
   "source": [
    "random_forest = random_forest.best_estimator_\n",
    "dump(random_forest, \"random_forest_model.joblib\") "
   ],
   "metadata": {
    "collapsed": false,
    "ExecuteTime": {
     "end_time": "2023-11-12T16:25:53.577581300Z",
     "start_time": "2023-11-12T16:25:53.576580Z"
    }
   },
   "id": "9ae149ce2484543b"
  },
  {
   "cell_type": "markdown",
   "source": [
    "2. Оценка моделей"
   ],
   "metadata": {
    "collapsed": false
   },
   "id": "dd88a8688e30cad5"
  },
  {
   "cell_type": "markdown",
   "source": [
    "    a-b. Визуализация предсказанных значений. Оценка качества прогноза"
   ],
   "metadata": {
    "collapsed": false
   },
   "id": "fda973171f77c9ae"
  },
  {
   "cell_type": "markdown",
   "source": [
    "        K-ближайших соседей (KNN)"
   ],
   "metadata": {
    "collapsed": false
   },
   "id": "ca98b3a273c913d7"
  },
  {
   "cell_type": "code",
   "execution_count": null,
   "outputs": [],
   "source": [
    "y_pred = knn.predict(x_test.values)\n",
    "matrix = confusion_matrix(y_test, y_pred)\n",
    "plt.figure(figsize=(7, 5))\n",
    "sns.heatmap(matrix, annot=True)\n",
    "plt.xlabel(\"Predicted\")\n",
    "plt.ylabel(\"Truth\")"
   ],
   "metadata": {
    "collapsed": false,
    "ExecuteTime": {
     "start_time": "2023-11-12T16:25:53.586579600Z"
    }
   },
   "id": "c6b7a78180cd582b"
  },
  {
   "cell_type": "code",
   "execution_count": null,
   "outputs": [],
   "source": [
    "print(classification_report(y_test, y_pred))"
   ],
   "metadata": {
    "collapsed": false,
    "ExecuteTime": {
     "end_time": "2023-11-12T16:25:53.680965100Z",
     "start_time": "2023-11-12T16:25:53.591584100Z"
    }
   },
   "id": "b8ac5bee993d0d7d"
  },
  {
   "cell_type": "markdown",
   "source": [],
   "metadata": {
    "collapsed": false
   },
   "id": "afa1c4135b908db"
  },
  {
   "cell_type": "markdown",
   "source": [
    "        Машина опорных векторов (SVM)"
   ],
   "metadata": {
    "collapsed": false
   },
   "id": "3fd404b82736513b"
  },
  {
   "cell_type": "code",
   "execution_count": null,
   "outputs": [],
   "source": [
    "y_pred = svm.predict(x_test.values)\n",
    "matrix = confusion_matrix(y_test, y_pred)\n",
    "plt.figure(figsize=(7, 5))\n",
    "sns.heatmap(matrix, annot=True)\n",
    "plt.xlabel(\"Predicted\")\n",
    "plt.ylabel(\"Truth\")"
   ],
   "metadata": {
    "collapsed": false,
    "ExecuteTime": {
     "start_time": "2023-11-12T16:25:53.598802400Z"
    }
   },
   "id": "a9c49a468651d409"
  },
  {
   "cell_type": "code",
   "execution_count": null,
   "outputs": [],
   "source": [
    "print(classification_report(y_test, y_pred))"
   ],
   "metadata": {
    "collapsed": false,
    "ExecuteTime": {
     "start_time": "2023-11-12T16:25:53.603319800Z"
    }
   },
   "id": "4f4fa9d0d4ffe257"
  },
  {
   "cell_type": "markdown",
   "source": [
    "        Случайный лес"
   ],
   "metadata": {
    "collapsed": false
   },
   "id": "96428e7fd29d7ffe"
  },
  {
   "cell_type": "code",
   "execution_count": null,
   "outputs": [],
   "source": [
    "y_pred = random_forest.predict(x_test.values)\n",
    "matrix = confusion_matrix(y_test, y_pred)\n",
    "plt.figure(figsize=(7, 5))\n",
    "sns.heatmap(matrix, annot=True)\n",
    "plt.xlabel(\"Predicted\")\n",
    "plt.ylabel(\"Truth\")"
   ],
   "metadata": {
    "collapsed": false,
    "ExecuteTime": {
     "start_time": "2023-11-12T16:25:53.608330500Z"
    }
   },
   "id": "192164d7cd6a1fcd"
  },
  {
   "cell_type": "code",
   "execution_count": null,
   "outputs": [],
   "source": [
    "print(classification_report(y_test, y_pred))"
   ],
   "metadata": {
    "collapsed": false,
    "ExecuteTime": {
     "start_time": "2023-11-12T16:25:53.610323300Z"
    }
   },
   "id": "3446705d4ee0d104"
  },
  {
   "cell_type": "markdown",
   "source": [
    "        c. Визуализация Feature Importance"
   ],
   "metadata": {
    "collapsed": false
   },
   "id": "39c3ffadc842d88b"
  },
  {
   "cell_type": "code",
   "execution_count": null,
   "outputs": [],
   "source": [
    "# Get numerical feature importances\n",
    "importances = random_forest.feature_importances_\n",
    "\n",
    "# Get the name of the features\n",
    "feature_list = list(x.columns)\n",
    "\n",
    "# List of tuples with variable and importance\n",
    "feature_importance= [(feature, round(importance, 2)) for feature, importance in zip(feature_list, importances)]\n",
    "\n",
    "# Sort the feature importances by most important first\n",
    "feature_importance = sorted(feature_importance, key = lambda x: x[1], reverse = True)\n",
    "\n",
    "# Print out the feature and importances \n",
    "[print('Variable: {:20} Importance: {}'.format(*pair)) for pair in feature_importance]\n",
    "\n",
    "# list of x locations for plotting\n",
    "x_values = list(range(len(importances)))\n",
    "\n",
    "# Make a bar chart\n",
    "plt.bar(x_values, importances, orientation = 'vertical')\n",
    "\n",
    "# Tick labels for x axis\n",
    "plt.xticks(x_values, feature_list, rotation='vertical')\n",
    "\n",
    "# Axis labels and title\n",
    "plt.ylabel('Importance'); plt.xlabel('Variable'); plt.title('Variable Importances');\n",
    "plt.show()"
   ],
   "metadata": {
    "collapsed": false,
    "ExecuteTime": {
     "start_time": "2023-11-12T16:25:53.614333200Z"
    }
   },
   "id": "9b7a083b5ce2f20f"
  }
 ],
 "metadata": {
  "kernelspec": {
   "display_name": "Python 3",
   "language": "python",
   "name": "python3"
  },
  "language_info": {
   "codemirror_mode": {
    "name": "ipython",
    "version": 2
   },
   "file_extension": ".py",
   "mimetype": "text/x-python",
   "name": "python",
   "nbconvert_exporter": "python",
   "pygments_lexer": "ipython2",
   "version": "2.7.6"
  }
 },
 "nbformat": 4,
 "nbformat_minor": 5
}
